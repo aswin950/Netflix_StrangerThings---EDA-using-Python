{
 "cells": [
  {
   "cell_type": "code",
   "execution_count": 1,
   "metadata": {
    "id": "xu2UPQ2U5mmW"
   },
   "outputs": [],
   "source": [
    "# Pandas library for data analysis\n",
    "import pandas as pd\n",
    "\n",
    "# KNNImputer used for imputing the missing values\n",
    "from sklearn.impute import KNNImputer\n",
    "\n",
    "# matplotlib for data visualization\n",
    "import matplotlib.pyplot as plt\n",
    "\n",
    "# seaborn library for also data visualization\n",
    "import seaborn as sns\n",
    "\n",
    "df = pd.read_csv('~/Downloads/Netflix_StrangerThings.csv')\n"
   ]
  },
  {
   "cell_type": "code",
   "execution_count": 2,
   "metadata": {
    "colab": {
     "base_uri": "https://localhost:8080/",
     "height": 205
    },
    "id": "7yT5Hd9G6-uM",
    "outputId": "4dd2191f-74f1-49e2-b52f-a3639fd8c70c"
   },
   "outputs": [
    {
     "data": {
      "text/html": [
       "<div>\n",
       "<style scoped>\n",
       "    .dataframe tbody tr th:only-of-type {\n",
       "        vertical-align: middle;\n",
       "    }\n",
       "\n",
       "    .dataframe tbody tr th {\n",
       "        vertical-align: top;\n",
       "    }\n",
       "\n",
       "    .dataframe thead th {\n",
       "        text-align: right;\n",
       "    }\n",
       "</style>\n",
       "<table border=\"1\" class=\"dataframe\">\n",
       "  <thead>\n",
       "    <tr style=\"text-align: right;\">\n",
       "      <th></th>\n",
       "      <th>User ID</th>\n",
       "      <th>Day Of Week</th>\n",
       "      <th>Unnamed: 2</th>\n",
       "      <th>Show</th>\n",
       "      <th>Season</th>\n",
       "      <th>Episode</th>\n",
       "      <th>Time Watched</th>\n",
       "      <th>Gender</th>\n",
       "      <th>Completed</th>\n",
       "      <th>Time of Day</th>\n",
       "      <th>Unnamed: 10</th>\n",
       "      <th>Unnamed: 11</th>\n",
       "      <th>Unnamed: 12</th>\n",
       "    </tr>\n",
       "  </thead>\n",
       "  <tbody>\n",
       "    <tr>\n",
       "      <th>0</th>\n",
       "      <td>117752</td>\n",
       "      <td>2/12/19</td>\n",
       "      <td>Tuesday</td>\n",
       "      <td>Stranger Things</td>\n",
       "      <td>2</td>\n",
       "      <td>6</td>\n",
       "      <td>51</td>\n",
       "      <td>Female</td>\n",
       "      <td>1.0</td>\n",
       "      <td>1</td>\n",
       "      <td>NaN</td>\n",
       "      <td>NaN</td>\n",
       "      <td>NaN</td>\n",
       "    </tr>\n",
       "    <tr>\n",
       "      <th>1</th>\n",
       "      <td>28615</td>\n",
       "      <td>2/12/19</td>\n",
       "      <td>Tuesday</td>\n",
       "      <td>Stranger Things</td>\n",
       "      <td>2</td>\n",
       "      <td>6</td>\n",
       "      <td>2</td>\n",
       "      <td>Female</td>\n",
       "      <td>0.0</td>\n",
       "      <td>0</td>\n",
       "      <td>NaN</td>\n",
       "      <td>NaN</td>\n",
       "      <td>NaN</td>\n",
       "    </tr>\n",
       "    <tr>\n",
       "      <th>2</th>\n",
       "      <td>72226</td>\n",
       "      <td>2/12/19</td>\n",
       "      <td>Tuesday</td>\n",
       "      <td>Stranger Things</td>\n",
       "      <td>2</td>\n",
       "      <td>3</td>\n",
       "      <td>5</td>\n",
       "      <td>Female</td>\n",
       "      <td>0.0</td>\n",
       "      <td>1</td>\n",
       "      <td>NaN</td>\n",
       "      <td>NaN</td>\n",
       "      <td>NaN</td>\n",
       "    </tr>\n",
       "    <tr>\n",
       "      <th>3</th>\n",
       "      <td>62565</td>\n",
       "      <td>2/9/19</td>\n",
       "      <td>Saturday</td>\n",
       "      <td>Stranger Things</td>\n",
       "      <td>2</td>\n",
       "      <td>10</td>\n",
       "      <td>59</td>\n",
       "      <td>Female</td>\n",
       "      <td>1.0</td>\n",
       "      <td>1</td>\n",
       "      <td>NaN</td>\n",
       "      <td>NaN</td>\n",
       "      <td>NaN</td>\n",
       "    </tr>\n",
       "    <tr>\n",
       "      <th>4</th>\n",
       "      <td>3494</td>\n",
       "      <td>2/12/19</td>\n",
       "      <td>Tuesday</td>\n",
       "      <td>Stranger Things</td>\n",
       "      <td>2</td>\n",
       "      <td>1</td>\n",
       "      <td>33</td>\n",
       "      <td>Female</td>\n",
       "      <td>1.0</td>\n",
       "      <td>0</td>\n",
       "      <td>NaN</td>\n",
       "      <td>NaN</td>\n",
       "      <td>NaN</td>\n",
       "    </tr>\n",
       "  </tbody>\n",
       "</table>\n",
       "</div>"
      ],
      "text/plain": [
       "   User ID Day Of Week Unnamed: 2             Show  Season  Episode  \\\n",
       "0   117752     2/12/19    Tuesday  Stranger Things       2        6   \n",
       "1    28615     2/12/19    Tuesday  Stranger Things       2        6   \n",
       "2    72226     2/12/19    Tuesday  Stranger Things       2        3   \n",
       "3    62565      2/9/19   Saturday  Stranger Things       2       10   \n",
       "4     3494     2/12/19    Tuesday  Stranger Things       2        1   \n",
       "\n",
       "   Time Watched  Gender  Completed  Time of Day  Unnamed: 10  Unnamed: 11  \\\n",
       "0            51  Female        1.0            1          NaN          NaN   \n",
       "1             2  Female        0.0            0          NaN          NaN   \n",
       "2             5  Female        0.0            1          NaN          NaN   \n",
       "3            59  Female        1.0            1          NaN          NaN   \n",
       "4            33  Female        1.0            0          NaN          NaN   \n",
       "\n",
       "   Unnamed: 12  \n",
       "0          NaN  \n",
       "1          NaN  \n",
       "2          NaN  \n",
       "3          NaN  \n",
       "4          NaN  "
      ]
     },
     "execution_count": 2,
     "metadata": {},
     "output_type": "execute_result"
    }
   ],
   "source": [
    "df.head()"
   ]
  },
  {
   "cell_type": "markdown",
   "metadata": {
    "id": "NCgIWkyg7mYJ"
   },
   "source": [
    "## Data Cleanup and Preprocessing ##"
   ]
  },
  {
   "cell_type": "code",
   "execution_count": 3,
   "metadata": {
    "colab": {
     "base_uri": "https://localhost:8080/"
    },
    "id": "eKHoTufd7CXw",
    "outputId": "089b1fe6-966d-4035-cbee-2ef28b3fe725"
   },
   "outputs": [
    {
     "name": "stdout",
     "output_type": "stream",
     "text": [
      "<class 'pandas.core.frame.DataFrame'>\n",
      "RangeIndex: 3033 entries, 0 to 3032\n",
      "Data columns (total 13 columns):\n",
      " #   Column        Non-Null Count  Dtype  \n",
      "---  ------        --------------  -----  \n",
      " 0   User ID       3033 non-null   int64  \n",
      " 1   Day Of Week   3033 non-null   object \n",
      " 2   Unnamed: 2    3033 non-null   object \n",
      " 3   Show          3033 non-null   object \n",
      " 4   Season        3033 non-null   int64  \n",
      " 5   Episode       3033 non-null   int64  \n",
      " 6   Time Watched  3033 non-null   int64  \n",
      " 7   Gender        2934 non-null   object \n",
      " 8   Completed     2995 non-null   float64\n",
      " 9   Time of Day   3033 non-null   int64  \n",
      " 10  Unnamed: 10   0 non-null      float64\n",
      " 11  Unnamed: 11   0 non-null      float64\n",
      " 12  Unnamed: 12   0 non-null      float64\n",
      "dtypes: float64(4), int64(5), object(4)\n",
      "memory usage: 308.2+ KB\n"
     ]
    }
   ],
   "source": [
    "df.info()"
   ]
  },
  {
   "cell_type": "markdown",
   "metadata": {
    "id": "V2VPVcSfbS3u"
   },
   "source": [
    "The dataset consists of 13 columns and 3033 rows."
   ]
  },
  {
   "cell_type": "markdown",
   "metadata": {
    "id": "arSUS_icpq_4"
   },
   "source": [
    "Numerical variabels are Episode, Time Watched, Season and categorical variables are Show, Gender, Completed, Time of Day, Day of week."
   ]
  },
  {
   "cell_type": "code",
   "execution_count": 4,
   "metadata": {
    "colab": {
     "base_uri": "https://localhost:8080/",
     "height": 205
    },
    "id": "XkF7Ap2h7ymF",
    "outputId": "6ee11caa-3e36-4904-b8bc-b5b6058bd6a5"
   },
   "outputs": [
    {
     "data": {
      "text/html": [
       "<div>\n",
       "<style scoped>\n",
       "    .dataframe tbody tr th:only-of-type {\n",
       "        vertical-align: middle;\n",
       "    }\n",
       "\n",
       "    .dataframe tbody tr th {\n",
       "        vertical-align: top;\n",
       "    }\n",
       "\n",
       "    .dataframe thead th {\n",
       "        text-align: right;\n",
       "    }\n",
       "</style>\n",
       "<table border=\"1\" class=\"dataframe\">\n",
       "  <thead>\n",
       "    <tr style=\"text-align: right;\">\n",
       "      <th></th>\n",
       "      <th>User ID</th>\n",
       "      <th>Day Of Week</th>\n",
       "      <th>Unnamed: 2</th>\n",
       "      <th>Show</th>\n",
       "      <th>Season</th>\n",
       "      <th>Episode</th>\n",
       "      <th>Time Watched</th>\n",
       "      <th>Gender</th>\n",
       "      <th>Completed</th>\n",
       "      <th>Time of Day</th>\n",
       "    </tr>\n",
       "  </thead>\n",
       "  <tbody>\n",
       "    <tr>\n",
       "      <th>0</th>\n",
       "      <td>117752</td>\n",
       "      <td>2/12/19</td>\n",
       "      <td>Tuesday</td>\n",
       "      <td>Stranger Things</td>\n",
       "      <td>2</td>\n",
       "      <td>6</td>\n",
       "      <td>51</td>\n",
       "      <td>Female</td>\n",
       "      <td>1.0</td>\n",
       "      <td>1</td>\n",
       "    </tr>\n",
       "    <tr>\n",
       "      <th>1</th>\n",
       "      <td>28615</td>\n",
       "      <td>2/12/19</td>\n",
       "      <td>Tuesday</td>\n",
       "      <td>Stranger Things</td>\n",
       "      <td>2</td>\n",
       "      <td>6</td>\n",
       "      <td>2</td>\n",
       "      <td>Female</td>\n",
       "      <td>0.0</td>\n",
       "      <td>0</td>\n",
       "    </tr>\n",
       "    <tr>\n",
       "      <th>2</th>\n",
       "      <td>72226</td>\n",
       "      <td>2/12/19</td>\n",
       "      <td>Tuesday</td>\n",
       "      <td>Stranger Things</td>\n",
       "      <td>2</td>\n",
       "      <td>3</td>\n",
       "      <td>5</td>\n",
       "      <td>Female</td>\n",
       "      <td>0.0</td>\n",
       "      <td>1</td>\n",
       "    </tr>\n",
       "    <tr>\n",
       "      <th>3</th>\n",
       "      <td>62565</td>\n",
       "      <td>2/9/19</td>\n",
       "      <td>Saturday</td>\n",
       "      <td>Stranger Things</td>\n",
       "      <td>2</td>\n",
       "      <td>10</td>\n",
       "      <td>59</td>\n",
       "      <td>Female</td>\n",
       "      <td>1.0</td>\n",
       "      <td>1</td>\n",
       "    </tr>\n",
       "    <tr>\n",
       "      <th>4</th>\n",
       "      <td>3494</td>\n",
       "      <td>2/12/19</td>\n",
       "      <td>Tuesday</td>\n",
       "      <td>Stranger Things</td>\n",
       "      <td>2</td>\n",
       "      <td>1</td>\n",
       "      <td>33</td>\n",
       "      <td>Female</td>\n",
       "      <td>1.0</td>\n",
       "      <td>0</td>\n",
       "    </tr>\n",
       "  </tbody>\n",
       "</table>\n",
       "</div>"
      ],
      "text/plain": [
       "   User ID Day Of Week Unnamed: 2             Show  Season  Episode  \\\n",
       "0   117752     2/12/19    Tuesday  Stranger Things       2        6   \n",
       "1    28615     2/12/19    Tuesday  Stranger Things       2        6   \n",
       "2    72226     2/12/19    Tuesday  Stranger Things       2        3   \n",
       "3    62565      2/9/19   Saturday  Stranger Things       2       10   \n",
       "4     3494     2/12/19    Tuesday  Stranger Things       2        1   \n",
       "\n",
       "   Time Watched  Gender  Completed  Time of Day  \n",
       "0            51  Female        1.0            1  \n",
       "1             2  Female        0.0            0  \n",
       "2             5  Female        0.0            1  \n",
       "3            59  Female        1.0            1  \n",
       "4            33  Female        1.0            0  "
      ]
     },
     "execution_count": 4,
     "metadata": {},
     "output_type": "execute_result"
    }
   ],
   "source": [
    "# Remove unwanted columns\n",
    "df = df.drop(['Unnamed: 10','Unnamed: 11','Unnamed: 12'],axis=1)\n",
    "df.head()"
   ]
  },
  {
   "cell_type": "markdown",
   "metadata": {
    "id": "gG_s_r9F-MtC"
   },
   "source": [
    "We can observed that some columns not given names and given wrong names. We will rename it."
   ]
  },
  {
   "cell_type": "code",
   "execution_count": 5,
   "metadata": {
    "colab": {
     "base_uri": "https://localhost:8080/",
     "height": 422
    },
    "id": "oZpoO5Mv98mu",
    "outputId": "120cd1d8-56ad-4cc4-cf41-0245a64bf669"
   },
   "outputs": [
    {
     "data": {
      "text/html": [
       "<div>\n",
       "<style scoped>\n",
       "    .dataframe tbody tr th:only-of-type {\n",
       "        vertical-align: middle;\n",
       "    }\n",
       "\n",
       "    .dataframe tbody tr th {\n",
       "        vertical-align: top;\n",
       "    }\n",
       "\n",
       "    .dataframe thead th {\n",
       "        text-align: right;\n",
       "    }\n",
       "</style>\n",
       "<table border=\"1\" class=\"dataframe\">\n",
       "  <thead>\n",
       "    <tr style=\"text-align: right;\">\n",
       "      <th></th>\n",
       "      <th>User ID</th>\n",
       "      <th>Date</th>\n",
       "      <th>Day Of Week</th>\n",
       "      <th>Show</th>\n",
       "      <th>Season</th>\n",
       "      <th>Episode</th>\n",
       "      <th>Time Watched</th>\n",
       "      <th>Gender</th>\n",
       "      <th>Completed</th>\n",
       "      <th>Time of Day</th>\n",
       "    </tr>\n",
       "  </thead>\n",
       "  <tbody>\n",
       "    <tr>\n",
       "      <th>0</th>\n",
       "      <td>117752</td>\n",
       "      <td>2/12/19</td>\n",
       "      <td>Tuesday</td>\n",
       "      <td>Stranger Things</td>\n",
       "      <td>2</td>\n",
       "      <td>6</td>\n",
       "      <td>51</td>\n",
       "      <td>Female</td>\n",
       "      <td>1.0</td>\n",
       "      <td>1</td>\n",
       "    </tr>\n",
       "    <tr>\n",
       "      <th>1</th>\n",
       "      <td>28615</td>\n",
       "      <td>2/12/19</td>\n",
       "      <td>Tuesday</td>\n",
       "      <td>Stranger Things</td>\n",
       "      <td>2</td>\n",
       "      <td>6</td>\n",
       "      <td>2</td>\n",
       "      <td>Female</td>\n",
       "      <td>0.0</td>\n",
       "      <td>0</td>\n",
       "    </tr>\n",
       "    <tr>\n",
       "      <th>2</th>\n",
       "      <td>72226</td>\n",
       "      <td>2/12/19</td>\n",
       "      <td>Tuesday</td>\n",
       "      <td>Stranger Things</td>\n",
       "      <td>2</td>\n",
       "      <td>3</td>\n",
       "      <td>5</td>\n",
       "      <td>Female</td>\n",
       "      <td>0.0</td>\n",
       "      <td>1</td>\n",
       "    </tr>\n",
       "    <tr>\n",
       "      <th>3</th>\n",
       "      <td>62565</td>\n",
       "      <td>2/9/19</td>\n",
       "      <td>Saturday</td>\n",
       "      <td>Stranger Things</td>\n",
       "      <td>2</td>\n",
       "      <td>10</td>\n",
       "      <td>59</td>\n",
       "      <td>Female</td>\n",
       "      <td>1.0</td>\n",
       "      <td>1</td>\n",
       "    </tr>\n",
       "    <tr>\n",
       "      <th>4</th>\n",
       "      <td>3494</td>\n",
       "      <td>2/12/19</td>\n",
       "      <td>Tuesday</td>\n",
       "      <td>Stranger Things</td>\n",
       "      <td>2</td>\n",
       "      <td>1</td>\n",
       "      <td>33</td>\n",
       "      <td>Female</td>\n",
       "      <td>1.0</td>\n",
       "      <td>0</td>\n",
       "    </tr>\n",
       "    <tr>\n",
       "      <th>...</th>\n",
       "      <td>...</td>\n",
       "      <td>...</td>\n",
       "      <td>...</td>\n",
       "      <td>...</td>\n",
       "      <td>...</td>\n",
       "      <td>...</td>\n",
       "      <td>...</td>\n",
       "      <td>...</td>\n",
       "      <td>...</td>\n",
       "      <td>...</td>\n",
       "    </tr>\n",
       "    <tr>\n",
       "      <th>3028</th>\n",
       "      <td>24988</td>\n",
       "      <td>2/11/19</td>\n",
       "      <td>Monday</td>\n",
       "      <td>American Horror Story</td>\n",
       "      <td>4</td>\n",
       "      <td>2</td>\n",
       "      <td>25</td>\n",
       "      <td>Female</td>\n",
       "      <td>0.0</td>\n",
       "      <td>1</td>\n",
       "    </tr>\n",
       "    <tr>\n",
       "      <th>3029</th>\n",
       "      <td>15248</td>\n",
       "      <td>2/11/19</td>\n",
       "      <td>Monday</td>\n",
       "      <td>American Horror Story</td>\n",
       "      <td>4</td>\n",
       "      <td>2</td>\n",
       "      <td>16</td>\n",
       "      <td>Male</td>\n",
       "      <td>0.0</td>\n",
       "      <td>0</td>\n",
       "    </tr>\n",
       "    <tr>\n",
       "      <th>3030</th>\n",
       "      <td>4959</td>\n",
       "      <td>2/9/19</td>\n",
       "      <td>Saturday</td>\n",
       "      <td>American Horror Story</td>\n",
       "      <td>2</td>\n",
       "      <td>1</td>\n",
       "      <td>20</td>\n",
       "      <td>Male</td>\n",
       "      <td>0.0</td>\n",
       "      <td>1</td>\n",
       "    </tr>\n",
       "    <tr>\n",
       "      <th>3031</th>\n",
       "      <td>28654</td>\n",
       "      <td>2/10/19</td>\n",
       "      <td>Sunday</td>\n",
       "      <td>American Horror Story</td>\n",
       "      <td>5</td>\n",
       "      <td>2</td>\n",
       "      <td>12</td>\n",
       "      <td>Male</td>\n",
       "      <td>0.0</td>\n",
       "      <td>1</td>\n",
       "    </tr>\n",
       "    <tr>\n",
       "      <th>3032</th>\n",
       "      <td>112557</td>\n",
       "      <td>2/10/19</td>\n",
       "      <td>Sunday</td>\n",
       "      <td>American Horror Story</td>\n",
       "      <td>4</td>\n",
       "      <td>2</td>\n",
       "      <td>19</td>\n",
       "      <td>Male</td>\n",
       "      <td>0.0</td>\n",
       "      <td>1</td>\n",
       "    </tr>\n",
       "  </tbody>\n",
       "</table>\n",
       "<p>3033 rows × 10 columns</p>\n",
       "</div>"
      ],
      "text/plain": [
       "      User ID     Date Day Of Week                   Show  Season  Episode  \\\n",
       "0      117752  2/12/19     Tuesday        Stranger Things       2        6   \n",
       "1       28615  2/12/19     Tuesday        Stranger Things       2        6   \n",
       "2       72226  2/12/19     Tuesday        Stranger Things       2        3   \n",
       "3       62565   2/9/19    Saturday        Stranger Things       2       10   \n",
       "4        3494  2/12/19     Tuesday        Stranger Things       2        1   \n",
       "...       ...      ...         ...                    ...     ...      ...   \n",
       "3028    24988  2/11/19      Monday  American Horror Story       4        2   \n",
       "3029    15248  2/11/19      Monday  American Horror Story       4        2   \n",
       "3030     4959   2/9/19    Saturday  American Horror Story       2        1   \n",
       "3031    28654  2/10/19      Sunday  American Horror Story       5        2   \n",
       "3032   112557  2/10/19      Sunday  American Horror Story       4        2   \n",
       "\n",
       "      Time Watched  Gender  Completed  Time of Day  \n",
       "0               51  Female        1.0            1  \n",
       "1                2  Female        0.0            0  \n",
       "2                5  Female        0.0            1  \n",
       "3               59  Female        1.0            1  \n",
       "4               33  Female        1.0            0  \n",
       "...            ...     ...        ...          ...  \n",
       "3028            25  Female        0.0            1  \n",
       "3029            16    Male        0.0            0  \n",
       "3030            20    Male        0.0            1  \n",
       "3031            12    Male        0.0            1  \n",
       "3032            19    Male        0.0            1  \n",
       "\n",
       "[3033 rows x 10 columns]"
      ]
     },
     "execution_count": 5,
     "metadata": {},
     "output_type": "execute_result"
    }
   ],
   "source": [
    "# Rename the columns\n",
    "df = df.rename(columns={'Day Of Week':'Date','Unnamed: 2':'Day Of Week'})\n",
    "df"
   ]
  },
  {
   "cell_type": "code",
   "execution_count": 6,
   "metadata": {
    "colab": {
     "base_uri": "https://localhost:8080/"
    },
    "id": "ADyi1RGlr1jB",
    "outputId": "47269cff-469a-4219-c02d-a40ccdc8fb5c"
   },
   "outputs": [
    {
     "data": {
      "text/plain": [
       "pandas.core.series.Series"
      ]
     },
     "execution_count": 6,
     "metadata": {},
     "output_type": "execute_result"
    }
   ],
   "source": [
    "# convert date from object to date type\n",
    "df.Date = pd.to_datetime(df.Date)\n",
    "type(df.Date)"
   ]
  },
  {
   "cell_type": "code",
   "execution_count": 7,
   "metadata": {
    "colab": {
     "base_uri": "https://localhost:8080/"
    },
    "id": "9C8uTXLFr5iz",
    "outputId": "dc87abe4-3b40-47a8-b9f7-62ec64019593"
   },
   "outputs": [
    {
     "data": {
      "text/plain": [
       "User ID                  int64\n",
       "Date            datetime64[ns]\n",
       "Day Of Week             object\n",
       "Show                    object\n",
       "Season                   int64\n",
       "Episode                  int64\n",
       "Time Watched             int64\n",
       "Gender                  object\n",
       "Completed              float64\n",
       "Time of Day              int64\n",
       "dtype: object"
      ]
     },
     "execution_count": 7,
     "metadata": {},
     "output_type": "execute_result"
    }
   ],
   "source": [
    "df.dtypes"
   ]
  },
  {
   "cell_type": "markdown",
   "metadata": {
    "id": "ktIxsvGZTgYX"
   },
   "source": [
    "### Missing values ####"
   ]
  },
  {
   "cell_type": "markdown",
   "metadata": {
    "id": "b3g4MS0aTqSj"
   },
   "source": [
    "Let us check missing values are present in the dataset."
   ]
  },
  {
   "cell_type": "code",
   "execution_count": 8,
   "metadata": {
    "colab": {
     "base_uri": "https://localhost:8080/"
    },
    "id": "EL8afEju-zAY",
    "outputId": "ad277f47-94b6-4060-bc1e-186b3b2ccb8b"
   },
   "outputs": [
    {
     "data": {
      "text/plain": [
       "User ID          0\n",
       "Date             0\n",
       "Day Of Week      0\n",
       "Show             0\n",
       "Season           0\n",
       "Episode          0\n",
       "Time Watched     0\n",
       "Gender          99\n",
       "Completed       38\n",
       "Time of Day      0\n",
       "dtype: int64"
      ]
     },
     "execution_count": 8,
     "metadata": {},
     "output_type": "execute_result"
    }
   ],
   "source": [
    "# Checking missing values\n",
    "df.isnull().sum()"
   ]
  },
  {
   "cell_type": "markdown",
   "metadata": {
    "id": "bZi8igMkUANt"
   },
   "source": [
    "The missing values are present in the Gender and Completed variable. "
   ]
  },
  {
   "cell_type": "code",
   "execution_count": 9,
   "metadata": {
    "colab": {
     "base_uri": "https://localhost:8080/"
    },
    "id": "qhVOGXzET7g2",
    "outputId": "686cf59b-3b6b-45c5-f0ac-b37d3112c5dc"
   },
   "outputs": [
    {
     "data": {
      "text/plain": [
       "User ID         0.000000\n",
       "Date            0.000000\n",
       "Day Of Week     0.000000\n",
       "Show            0.000000\n",
       "Season          0.000000\n",
       "Episode         0.000000\n",
       "Time Watched    0.000000\n",
       "Gender          3.264095\n",
       "Completed       1.252885\n",
       "Time of Day     0.000000\n",
       "dtype: float64"
      ]
     },
     "execution_count": 9,
     "metadata": {},
     "output_type": "execute_result"
    }
   ],
   "source": [
    "# percentage of missing values\n",
    "df.isnull().sum()/len(df) * 100"
   ]
  },
  {
   "cell_type": "markdown",
   "metadata": {
    "id": "puYlo7NIUjJE"
   },
   "source": [
    "The percentage of missing values in Gender and completed are 3.26% and 1.25% respectively."
   ]
  },
  {
   "cell_type": "markdown",
   "metadata": {
    "id": "PBrsfd83Uz-4"
   },
   "source": [
    "Percentage of missing values is very less, either we can ignore or we can impute this values by using mean, median and KNN imputation methods."
   ]
  },
  {
   "cell_type": "markdown",
   "metadata": {
    "id": "8efUHgUhWTcY"
   },
   "source": [
    "Both variables Gender and completed are categorical variables. So, we are going to use KNN impuatation method."
   ]
  },
  {
   "cell_type": "code",
   "execution_count": 10,
   "metadata": {
    "colab": {
     "base_uri": "https://localhost:8080/"
    },
    "id": "uxwcVNX0USvh",
    "outputId": "c9411ad4-4d98-4166-ab91-d7ebd72c50bd"
   },
   "outputs": [
    {
     "data": {
      "text/plain": [
       "0       1.0\n",
       "1       1.0\n",
       "2       1.0\n",
       "3       1.0\n",
       "4       1.0\n",
       "       ... \n",
       "3028    1.0\n",
       "3029    0.0\n",
       "3030    0.0\n",
       "3031    0.0\n",
       "3032    0.0\n",
       "Name: Gender, Length: 3033, dtype: float64"
      ]
     },
     "execution_count": 10,
     "metadata": {},
     "output_type": "execute_result"
    }
   ],
   "source": [
    "# map the Gender values to 0 and 1\n",
    "df['Gender'] = df.Gender.map({'Female':1,'Male':0})\n",
    "df['Gender']"
   ]
  },
  {
   "cell_type": "code",
   "execution_count": 11,
   "metadata": {
    "colab": {
     "base_uri": "https://localhost:8080/"
    },
    "id": "rWG_yjRXWrx_",
    "outputId": "afa82d10-2256-426d-ac67-3fd38a9413b9"
   },
   "outputs": [
    {
     "data": {
      "text/plain": [
       "array([[1., 1.],\n",
       "       [1., 0.],\n",
       "       [1., 0.],\n",
       "       ...,\n",
       "       [0., 0.],\n",
       "       [0., 0.],\n",
       "       [0., 0.]])"
      ]
     },
     "execution_count": 11,
     "metadata": {},
     "output_type": "execute_result"
    }
   ],
   "source": [
    "# KNN impuatation for categorical variables\n",
    "imputer = KNNImputer(n_neighbors=2)\n",
    "imputed_data = imputer.fit_transform(df[['Gender','Completed']])\n",
    "imputed_data"
   ]
  },
  {
   "cell_type": "code",
   "execution_count": 12,
   "metadata": {
    "colab": {
     "base_uri": "https://localhost:8080/",
     "height": 422
    },
    "id": "V2nrLhM1Ydhp",
    "outputId": "db2b1f4a-cb1f-4a6d-dd37-ededf9b08350"
   },
   "outputs": [
    {
     "data": {
      "text/html": [
       "<div>\n",
       "<style scoped>\n",
       "    .dataframe tbody tr th:only-of-type {\n",
       "        vertical-align: middle;\n",
       "    }\n",
       "\n",
       "    .dataframe tbody tr th {\n",
       "        vertical-align: top;\n",
       "    }\n",
       "\n",
       "    .dataframe thead th {\n",
       "        text-align: right;\n",
       "    }\n",
       "</style>\n",
       "<table border=\"1\" class=\"dataframe\">\n",
       "  <thead>\n",
       "    <tr style=\"text-align: right;\">\n",
       "      <th></th>\n",
       "      <th>Gender</th>\n",
       "      <th>Completed</th>\n",
       "    </tr>\n",
       "  </thead>\n",
       "  <tbody>\n",
       "    <tr>\n",
       "      <th>0</th>\n",
       "      <td>1.0</td>\n",
       "      <td>1.0</td>\n",
       "    </tr>\n",
       "    <tr>\n",
       "      <th>1</th>\n",
       "      <td>1.0</td>\n",
       "      <td>0.0</td>\n",
       "    </tr>\n",
       "    <tr>\n",
       "      <th>2</th>\n",
       "      <td>1.0</td>\n",
       "      <td>0.0</td>\n",
       "    </tr>\n",
       "    <tr>\n",
       "      <th>3</th>\n",
       "      <td>1.0</td>\n",
       "      <td>1.0</td>\n",
       "    </tr>\n",
       "    <tr>\n",
       "      <th>4</th>\n",
       "      <td>1.0</td>\n",
       "      <td>1.0</td>\n",
       "    </tr>\n",
       "    <tr>\n",
       "      <th>...</th>\n",
       "      <td>...</td>\n",
       "      <td>...</td>\n",
       "    </tr>\n",
       "    <tr>\n",
       "      <th>3028</th>\n",
       "      <td>1.0</td>\n",
       "      <td>0.0</td>\n",
       "    </tr>\n",
       "    <tr>\n",
       "      <th>3029</th>\n",
       "      <td>0.0</td>\n",
       "      <td>0.0</td>\n",
       "    </tr>\n",
       "    <tr>\n",
       "      <th>3030</th>\n",
       "      <td>0.0</td>\n",
       "      <td>0.0</td>\n",
       "    </tr>\n",
       "    <tr>\n",
       "      <th>3031</th>\n",
       "      <td>0.0</td>\n",
       "      <td>0.0</td>\n",
       "    </tr>\n",
       "    <tr>\n",
       "      <th>3032</th>\n",
       "      <td>0.0</td>\n",
       "      <td>0.0</td>\n",
       "    </tr>\n",
       "  </tbody>\n",
       "</table>\n",
       "<p>3033 rows × 2 columns</p>\n",
       "</div>"
      ],
      "text/plain": [
       "      Gender  Completed\n",
       "0        1.0        1.0\n",
       "1        1.0        0.0\n",
       "2        1.0        0.0\n",
       "3        1.0        1.0\n",
       "4        1.0        1.0\n",
       "...      ...        ...\n",
       "3028     1.0        0.0\n",
       "3029     0.0        0.0\n",
       "3030     0.0        0.0\n",
       "3031     0.0        0.0\n",
       "3032     0.0        0.0\n",
       "\n",
       "[3033 rows x 2 columns]"
      ]
     },
     "execution_count": 12,
     "metadata": {},
     "output_type": "execute_result"
    }
   ],
   "source": [
    "# convert numpy array to dataframe\n",
    "\n",
    "df_imputed = pd.DataFrame(imputed_data, columns=['Gender','Completed'])\n",
    "df_imputed"
   ]
  },
  {
   "cell_type": "code",
   "execution_count": 13,
   "metadata": {
    "id": "xrTQ4xReYvBU"
   },
   "outputs": [],
   "source": [
    "# Replace the imputed varaible values to original variable values\n",
    "df['Gender'] = df_imputed['Gender']\n",
    "df['Completed'] = df_imputed['Completed']"
   ]
  },
  {
   "cell_type": "code",
   "execution_count": 14,
   "metadata": {
    "colab": {
     "base_uri": "https://localhost:8080/",
     "height": 205
    },
    "id": "7kw0WMEJaceW",
    "outputId": "061394bf-ee34-4389-fecc-9398326ba4aa"
   },
   "outputs": [
    {
     "data": {
      "text/html": [
       "<div>\n",
       "<style scoped>\n",
       "    .dataframe tbody tr th:only-of-type {\n",
       "        vertical-align: middle;\n",
       "    }\n",
       "\n",
       "    .dataframe tbody tr th {\n",
       "        vertical-align: top;\n",
       "    }\n",
       "\n",
       "    .dataframe thead th {\n",
       "        text-align: right;\n",
       "    }\n",
       "</style>\n",
       "<table border=\"1\" class=\"dataframe\">\n",
       "  <thead>\n",
       "    <tr style=\"text-align: right;\">\n",
       "      <th></th>\n",
       "      <th>User ID</th>\n",
       "      <th>Date</th>\n",
       "      <th>Day Of Week</th>\n",
       "      <th>Show</th>\n",
       "      <th>Season</th>\n",
       "      <th>Episode</th>\n",
       "      <th>Time Watched</th>\n",
       "      <th>Gender</th>\n",
       "      <th>Completed</th>\n",
       "      <th>Time of Day</th>\n",
       "    </tr>\n",
       "  </thead>\n",
       "  <tbody>\n",
       "    <tr>\n",
       "      <th>0</th>\n",
       "      <td>117752</td>\n",
       "      <td>2019-02-12</td>\n",
       "      <td>Tuesday</td>\n",
       "      <td>Stranger Things</td>\n",
       "      <td>2</td>\n",
       "      <td>6</td>\n",
       "      <td>51</td>\n",
       "      <td>1.0</td>\n",
       "      <td>1.0</td>\n",
       "      <td>1</td>\n",
       "    </tr>\n",
       "    <tr>\n",
       "      <th>1</th>\n",
       "      <td>28615</td>\n",
       "      <td>2019-02-12</td>\n",
       "      <td>Tuesday</td>\n",
       "      <td>Stranger Things</td>\n",
       "      <td>2</td>\n",
       "      <td>6</td>\n",
       "      <td>2</td>\n",
       "      <td>1.0</td>\n",
       "      <td>0.0</td>\n",
       "      <td>0</td>\n",
       "    </tr>\n",
       "    <tr>\n",
       "      <th>2</th>\n",
       "      <td>72226</td>\n",
       "      <td>2019-02-12</td>\n",
       "      <td>Tuesday</td>\n",
       "      <td>Stranger Things</td>\n",
       "      <td>2</td>\n",
       "      <td>3</td>\n",
       "      <td>5</td>\n",
       "      <td>1.0</td>\n",
       "      <td>0.0</td>\n",
       "      <td>1</td>\n",
       "    </tr>\n",
       "    <tr>\n",
       "      <th>3</th>\n",
       "      <td>62565</td>\n",
       "      <td>2019-02-09</td>\n",
       "      <td>Saturday</td>\n",
       "      <td>Stranger Things</td>\n",
       "      <td>2</td>\n",
       "      <td>10</td>\n",
       "      <td>59</td>\n",
       "      <td>1.0</td>\n",
       "      <td>1.0</td>\n",
       "      <td>1</td>\n",
       "    </tr>\n",
       "    <tr>\n",
       "      <th>4</th>\n",
       "      <td>3494</td>\n",
       "      <td>2019-02-12</td>\n",
       "      <td>Tuesday</td>\n",
       "      <td>Stranger Things</td>\n",
       "      <td>2</td>\n",
       "      <td>1</td>\n",
       "      <td>33</td>\n",
       "      <td>1.0</td>\n",
       "      <td>1.0</td>\n",
       "      <td>0</td>\n",
       "    </tr>\n",
       "  </tbody>\n",
       "</table>\n",
       "</div>"
      ],
      "text/plain": [
       "   User ID       Date Day Of Week             Show  Season  Episode  \\\n",
       "0   117752 2019-02-12     Tuesday  Stranger Things       2        6   \n",
       "1    28615 2019-02-12     Tuesday  Stranger Things       2        6   \n",
       "2    72226 2019-02-12     Tuesday  Stranger Things       2        3   \n",
       "3    62565 2019-02-09    Saturday  Stranger Things       2       10   \n",
       "4     3494 2019-02-12     Tuesday  Stranger Things       2        1   \n",
       "\n",
       "   Time Watched  Gender  Completed  Time of Day  \n",
       "0            51     1.0        1.0            1  \n",
       "1             2     1.0        0.0            0  \n",
       "2             5     1.0        0.0            1  \n",
       "3            59     1.0        1.0            1  \n",
       "4            33     1.0        1.0            0  "
      ]
     },
     "execution_count": 14,
     "metadata": {},
     "output_type": "execute_result"
    }
   ],
   "source": [
    "df.head()"
   ]
  },
  {
   "cell_type": "code",
   "execution_count": 15,
   "metadata": {
    "colab": {
     "base_uri": "https://localhost:8080/"
    },
    "id": "PhSkxguDaeTx",
    "outputId": "c6c49275-058c-4d83-dc45-136eea67713b"
   },
   "outputs": [
    {
     "data": {
      "text/plain": [
       "User ID         0\n",
       "Date            0\n",
       "Day Of Week     0\n",
       "Show            0\n",
       "Season          0\n",
       "Episode         0\n",
       "Time Watched    0\n",
       "Gender          0\n",
       "Completed       0\n",
       "Time of Day     0\n",
       "dtype: int64"
      ]
     },
     "execution_count": 15,
     "metadata": {},
     "output_type": "execute_result"
    }
   ],
   "source": [
    "# Checking missing values\n",
    "df.isnull().sum()"
   ]
  },
  {
   "cell_type": "markdown",
   "metadata": {
    "id": "1yZZrcS4eraf"
   },
   "source": [
    "### Duplicates ####"
   ]
  },
  {
   "cell_type": "code",
   "execution_count": 16,
   "metadata": {
    "colab": {
     "base_uri": "https://localhost:8080/"
    },
    "id": "816dFQGTelv9",
    "outputId": "29f2af2d-cbef-45f1-b096-70ab6a14aa3c"
   },
   "outputs": [
    {
     "data": {
      "text/plain": [
       "0"
      ]
     },
     "execution_count": 16,
     "metadata": {},
     "output_type": "execute_result"
    }
   ],
   "source": [
    "df.duplicated().sum()"
   ]
  },
  {
   "cell_type": "markdown",
   "metadata": {
    "id": "OZnpe9JEe6MI"
   },
   "source": [
    "No duplicated are found in dataset."
   ]
  },
  {
   "cell_type": "markdown",
   "metadata": {
    "id": "neEvX_sefCyC"
   },
   "source": [
    "### Outliers/Anomalies ###"
   ]
  },
  {
   "cell_type": "code",
   "execution_count": 17,
   "metadata": {
    "colab": {
     "base_uri": "https://localhost:8080/",
     "height": 499
    },
    "id": "Ky_WGBE5e0cN",
    "outputId": "600bccfa-e4e2-496d-b636-f997dfd8a87b"
   },
   "outputs": [
    {
     "data": {
      "image/png": "[encoded data removed]",
      "text/plain": [
       "<Figure size 1080x576 with 1 Axes>"
      ]
     },
     "metadata": {
      "needs_background": "light"
     },
     "output_type": "display_data"
    }
   ],
   "source": [
    "# outliers in Episode \n",
    "fig,ax=plt.subplots(figsize=(15,8))\n",
    "#Boxplot for Episode\n",
    "sns.boxplot(data=df[['Episode']])\n",
    "ax.set_title('Episode outliers')\n",
    "plt.show()"
   ]
  },
  {
   "cell_type": "markdown",
   "metadata": {
    "id": "Y1OSpPbHnn3-"
   },
   "source": [
    "No outliers are present in this Episode variable."
   ]
  },
  {
   "cell_type": "code",
   "execution_count": 18,
   "metadata": {
    "colab": {
     "base_uri": "https://localhost:8080/",
     "height": 499
    },
    "id": "SInIwIaVnKGH",
    "outputId": "3e13616e-0a29-4289-9dac-eabad37a0d55"
   },
   "outputs": [
    {
     "data": {
      "image/png": "[encoded data removed]",
      "text/plain": [
       "<Figure size 1080x576 with 1 Axes>"
      ]
     },
     "metadata": {
      "needs_background": "light"
     },
     "output_type": "display_data"
    }
   ],
   "source": [
    "# Outliers in Time watched\n",
    "import matplotlib.pyplot as plt\n",
    "import seaborn as sns\n",
    "fig,ax=plt.subplots(figsize=(15,8))\n",
    "#Boxplot for Time wathced\n",
    "sns.boxplot(data=df[['Time Watched']])\n",
    "ax.set_title('Time watched outliers')\n",
    "plt.show()"
   ]
  },
  {
   "cell_type": "markdown",
   "metadata": {
    "id": "NqQ9C4ODoBXg"
   },
   "source": [
    "Outliers are present in the Time watched variable. But, for this kind of dataset we can ignore outlier analysis and not so important."
   ]
  },
  {
   "cell_type": "markdown",
   "metadata": {
    "id": "VvlOBJvAsLNL"
   },
   "source": [
    "## Exploratory Data Analysis ##"
   ]
  },
  {
   "cell_type": "markdown",
   "metadata": {
    "id": "6sSVVlo8s6b2"
   },
   "source": [
    "Let us see summary statistics like mean, median, mode, count etc."
   ]
  },
  {
   "cell_type": "code",
   "execution_count": 19,
   "metadata": {
    "colab": {
     "base_uri": "https://localhost:8080/",
     "height": 299
    },
    "id": "BytwrbBKndWF",
    "outputId": "12fcea3c-66c8-46b6-b6dd-2843684f1d67"
   },
   "outputs": [
    {
     "data": {
      "text/html": [
       "<div>\n",
       "<style scoped>\n",
       "    .dataframe tbody tr th:only-of-type {\n",
       "        vertical-align: middle;\n",
       "    }\n",
       "\n",
       "    .dataframe tbody tr th {\n",
       "        vertical-align: top;\n",
       "    }\n",
       "\n",
       "    .dataframe thead th {\n",
       "        text-align: right;\n",
       "    }\n",
       "</style>\n",
       "<table border=\"1\" class=\"dataframe\">\n",
       "  <thead>\n",
       "    <tr style=\"text-align: right;\">\n",
       "      <th></th>\n",
       "      <th>User ID</th>\n",
       "      <th>Season</th>\n",
       "      <th>Episode</th>\n",
       "      <th>Time Watched</th>\n",
       "      <th>Gender</th>\n",
       "      <th>Completed</th>\n",
       "      <th>Time of Day</th>\n",
       "    </tr>\n",
       "  </thead>\n",
       "  <tbody>\n",
       "    <tr>\n",
       "      <th>count</th>\n",
       "      <td>3033.000000</td>\n",
       "      <td>3033.000000</td>\n",
       "      <td>3033.000000</td>\n",
       "      <td>3033.000000</td>\n",
       "      <td>3033.000000</td>\n",
       "      <td>3033.000000</td>\n",
       "      <td>3033.000000</td>\n",
       "    </tr>\n",
       "    <tr>\n",
       "      <th>mean</th>\n",
       "      <td>62270.860534</td>\n",
       "      <td>2.792944</td>\n",
       "      <td>5.500495</td>\n",
       "      <td>26.018464</td>\n",
       "      <td>0.512034</td>\n",
       "      <td>0.267722</td>\n",
       "      <td>0.495549</td>\n",
       "    </tr>\n",
       "    <tr>\n",
       "      <th>std</th>\n",
       "      <td>36111.588500</td>\n",
       "      <td>1.826943</td>\n",
       "      <td>2.886385</td>\n",
       "      <td>25.513932</td>\n",
       "      <td>0.499938</td>\n",
       "      <td>0.440605</td>\n",
       "      <td>0.500063</td>\n",
       "    </tr>\n",
       "    <tr>\n",
       "      <th>min</th>\n",
       "      <td>66.000000</td>\n",
       "      <td>1.000000</td>\n",
       "      <td>1.000000</td>\n",
       "      <td>1.000000</td>\n",
       "      <td>0.000000</td>\n",
       "      <td>0.000000</td>\n",
       "      <td>0.000000</td>\n",
       "    </tr>\n",
       "    <tr>\n",
       "      <th>25%</th>\n",
       "      <td>30885.000000</td>\n",
       "      <td>1.000000</td>\n",
       "      <td>3.000000</td>\n",
       "      <td>11.000000</td>\n",
       "      <td>0.000000</td>\n",
       "      <td>0.000000</td>\n",
       "      <td>0.000000</td>\n",
       "    </tr>\n",
       "    <tr>\n",
       "      <th>50%</th>\n",
       "      <td>61904.000000</td>\n",
       "      <td>2.000000</td>\n",
       "      <td>6.000000</td>\n",
       "      <td>21.000000</td>\n",
       "      <td>1.000000</td>\n",
       "      <td>0.000000</td>\n",
       "      <td>0.000000</td>\n",
       "    </tr>\n",
       "    <tr>\n",
       "      <th>75%</th>\n",
       "      <td>93874.000000</td>\n",
       "      <td>4.000000</td>\n",
       "      <td>8.000000</td>\n",
       "      <td>35.000000</td>\n",
       "      <td>1.000000</td>\n",
       "      <td>1.000000</td>\n",
       "      <td>1.000000</td>\n",
       "    </tr>\n",
       "    <tr>\n",
       "      <th>max</th>\n",
       "      <td>124938.000000</td>\n",
       "      <td>10.000000</td>\n",
       "      <td>10.000000</td>\n",
       "      <td>300.000000</td>\n",
       "      <td>1.000000</td>\n",
       "      <td>1.000000</td>\n",
       "      <td>1.000000</td>\n",
       "    </tr>\n",
       "  </tbody>\n",
       "</table>\n",
       "</div>"
      ],
      "text/plain": [
       "             User ID       Season      Episode  Time Watched       Gender  \\\n",
       "count    3033.000000  3033.000000  3033.000000   3033.000000  3033.000000   \n",
       "mean    62270.860534     2.792944     5.500495     26.018464     0.512034   \n",
       "std     36111.588500     1.826943     2.886385     25.513932     0.499938   \n",
       "min        66.000000     1.000000     1.000000      1.000000     0.000000   \n",
       "25%     30885.000000     1.000000     3.000000     11.000000     0.000000   \n",
       "50%     61904.000000     2.000000     6.000000     21.000000     1.000000   \n",
       "75%     93874.000000     4.000000     8.000000     35.000000     1.000000   \n",
       "max    124938.000000    10.000000    10.000000    300.000000     1.000000   \n",
       "\n",
       "         Completed  Time of Day  \n",
       "count  3033.000000  3033.000000  \n",
       "mean      0.267722     0.495549  \n",
       "std       0.440605     0.500063  \n",
       "min       0.000000     0.000000  \n",
       "25%       0.000000     0.000000  \n",
       "50%       0.000000     0.000000  \n",
       "75%       1.000000     1.000000  \n",
       "max       1.000000     1.000000  "
      ]
     },
     "execution_count": 19,
     "metadata": {},
     "output_type": "execute_result"
    }
   ],
   "source": [
    "# Glimpse of the dataset\n",
    "df.describe()"
   ]
  },
  {
   "cell_type": "markdown",
   "metadata": {
    "id": "eHk8AAzctJJt"
   },
   "source": [
    "### Corrleation Matrix ###"
   ]
  },
  {
   "cell_type": "markdown",
   "metadata": {
    "id": "SXvkqRW-tlM8"
   },
   "source": [
    "Let us see the correlation between the variables"
   ]
  },
  {
   "cell_type": "code",
   "execution_count": 20,
   "metadata": {
    "colab": {
     "base_uri": "https://localhost:8080/",
     "height": 268
    },
    "id": "pU9w0kb3s4HF",
    "outputId": "fcbd7347-94e6-4698-89b9-69a7eb98b4e2"
   },
   "outputs": [
    {
     "data": {
      "text/html": [
       "<div>\n",
       "<style scoped>\n",
       "    .dataframe tbody tr th:only-of-type {\n",
       "        vertical-align: middle;\n",
       "    }\n",
       "\n",
       "    .dataframe tbody tr th {\n",
       "        vertical-align: top;\n",
       "    }\n",
       "\n",
       "    .dataframe thead th {\n",
       "        text-align: right;\n",
       "    }\n",
       "</style>\n",
       "<table border=\"1\" class=\"dataframe\">\n",
       "  <thead>\n",
       "    <tr style=\"text-align: right;\">\n",
       "      <th></th>\n",
       "      <th>User ID</th>\n",
       "      <th>Season</th>\n",
       "      <th>Episode</th>\n",
       "      <th>Time Watched</th>\n",
       "      <th>Gender</th>\n",
       "      <th>Completed</th>\n",
       "      <th>Time of Day</th>\n",
       "    </tr>\n",
       "  </thead>\n",
       "  <tbody>\n",
       "    <tr>\n",
       "      <th>User ID</th>\n",
       "      <td>1.000000</td>\n",
       "      <td>0.001829</td>\n",
       "      <td>0.022352</td>\n",
       "      <td>0.000068</td>\n",
       "      <td>0.006073</td>\n",
       "      <td>0.005453</td>\n",
       "      <td>0.005892</td>\n",
       "    </tr>\n",
       "    <tr>\n",
       "      <th>Season</th>\n",
       "      <td>0.001829</td>\n",
       "      <td>1.000000</td>\n",
       "      <td>-0.006861</td>\n",
       "      <td>-0.115747</td>\n",
       "      <td>-0.007021</td>\n",
       "      <td>-0.215260</td>\n",
       "      <td>0.003323</td>\n",
       "    </tr>\n",
       "    <tr>\n",
       "      <th>Episode</th>\n",
       "      <td>0.022352</td>\n",
       "      <td>-0.006861</td>\n",
       "      <td>1.000000</td>\n",
       "      <td>-0.002347</td>\n",
       "      <td>-0.016518</td>\n",
       "      <td>0.009491</td>\n",
       "      <td>0.010456</td>\n",
       "    </tr>\n",
       "    <tr>\n",
       "      <th>Time Watched</th>\n",
       "      <td>0.000068</td>\n",
       "      <td>-0.115747</td>\n",
       "      <td>-0.002347</td>\n",
       "      <td>1.000000</td>\n",
       "      <td>0.006809</td>\n",
       "      <td>0.477213</td>\n",
       "      <td>0.001868</td>\n",
       "    </tr>\n",
       "    <tr>\n",
       "      <th>Gender</th>\n",
       "      <td>0.006073</td>\n",
       "      <td>-0.007021</td>\n",
       "      <td>-0.016518</td>\n",
       "      <td>0.006809</td>\n",
       "      <td>1.000000</td>\n",
       "      <td>0.013817</td>\n",
       "      <td>-0.003414</td>\n",
       "    </tr>\n",
       "    <tr>\n",
       "      <th>Completed</th>\n",
       "      <td>0.005453</td>\n",
       "      <td>-0.215260</td>\n",
       "      <td>0.009491</td>\n",
       "      <td>0.477213</td>\n",
       "      <td>0.013817</td>\n",
       "      <td>1.000000</td>\n",
       "      <td>-0.016295</td>\n",
       "    </tr>\n",
       "    <tr>\n",
       "      <th>Time of Day</th>\n",
       "      <td>0.005892</td>\n",
       "      <td>0.003323</td>\n",
       "      <td>0.010456</td>\n",
       "      <td>0.001868</td>\n",
       "      <td>-0.003414</td>\n",
       "      <td>-0.016295</td>\n",
       "      <td>1.000000</td>\n",
       "    </tr>\n",
       "  </tbody>\n",
       "</table>\n",
       "</div>"
      ],
      "text/plain": [
       "               User ID    Season   Episode  Time Watched    Gender  Completed  \\\n",
       "User ID       1.000000  0.001829  0.022352      0.000068  0.006073   0.005453   \n",
       "Season        0.001829  1.000000 -0.006861     -0.115747 -0.007021  -0.215260   \n",
       "Episode       0.022352 -0.006861  1.000000     -0.002347 -0.016518   0.009491   \n",
       "Time Watched  0.000068 -0.115747 -0.002347      1.000000  0.006809   0.477213   \n",
       "Gender        0.006073 -0.007021 -0.016518      0.006809  1.000000   0.013817   \n",
       "Completed     0.005453 -0.215260  0.009491      0.477213  0.013817   1.000000   \n",
       "Time of Day   0.005892  0.003323  0.010456      0.001868 -0.003414  -0.016295   \n",
       "\n",
       "              Time of Day  \n",
       "User ID          0.005892  \n",
       "Season           0.003323  \n",
       "Episode          0.010456  \n",
       "Time Watched     0.001868  \n",
       "Gender          -0.003414  \n",
       "Completed       -0.016295  \n",
       "Time of Day      1.000000  "
      ]
     },
     "execution_count": 20,
     "metadata": {},
     "output_type": "execute_result"
    }
   ],
   "source": [
    "# correlation matrix\n",
    "df.corr()"
   ]
  },
  {
   "cell_type": "markdown",
   "metadata": {
    "id": "cLExph77vYb_"
   },
   "source": [
    "Let us plot correlation matrix"
   ]
  },
  {
   "cell_type": "code",
   "execution_count": 21,
   "metadata": {
    "colab": {
     "base_uri": "https://localhost:8080/",
     "height": 499
    },
    "id": "EaRRz8_ztbGC",
    "outputId": "10f01d5c-a2a3-445d-a1ee-69a1a0016f1f"
   },
   "outputs": [
    {
     "data": {
      "image/png": "[encoded data removed]",
      "text/plain": [
       "<Figure size 864x576 with 2 Axes>"
      ]
     },
     "metadata": {
      "needs_background": "light"
     },
     "output_type": "display_data"
    }
   ],
   "source": [
    "\n",
    "plt.figure(figsize = (12,8))\n",
    "df_corr = df.corr()\n",
    "sns.heatmap(df_corr,fmt = \"\", cmap = \"RdYlGn\", linewidth = 0.30)\n",
    "plt.title('Correlation Matrix')\n",
    "plt.show()"
   ]
  },
  {
   "cell_type": "markdown",
   "metadata": {
    "id": "eh4GGTwZvhnW"
   },
   "source": [
    "We can observed that, there is less correlation betwteen variables "
   ]
  },
  {
   "cell_type": "markdown",
   "metadata": {
    "id": "wFiPiW5DwEVe"
   },
   "source": [
    "### Univariate Analysis"
   ]
  },
  {
   "cell_type": "code",
   "execution_count": 22,
   "metadata": {
    "colab": {
     "base_uri": "https://localhost:8080/",
     "height": 422
    },
    "id": "72VDQqe-uC12",
    "outputId": "a92fb0fe-7923-4659-a195-fe42aa3b49b6"
   },
   "outputs": [
    {
     "data": {
      "text/plain": [
       "Text(0.5, 1.0, 'Count Plot for Day of Week variable')"
      ]
     },
     "execution_count": 22,
     "metadata": {},
     "output_type": "execute_result"
    },
    {
     "data": {
      "image/png": "[encoded data removed]",
      "text/plain": [
       "<Figure size 864x432 with 1 Axes>"
      ]
     },
     "metadata": {
      "needs_background": "light"
     },
     "output_type": "display_data"
    }
   ],
   "source": [
    "# Count plot for Day Of Week\n",
    "plt.figure(figsize = (12,6))\n",
    "sns.countplot(x='Day Of Week', data=df)\n",
    "plt.title('Count Plot for Day of Week variable')"
   ]
  },
  {
   "cell_type": "markdown",
   "metadata": {
    "id": "DVBrZwkpCH0R"
   },
   "source": [
    "From the count plot, we can observed that many users watched Netflix shows on Tuesday and followed by Saturday, Monday and Sunday."
   ]
  },
  {
   "cell_type": "code",
   "execution_count": 23,
   "metadata": {
    "colab": {
     "base_uri": "https://localhost:8080/",
     "height": 422
    },
    "id": "C0Kw5e9Ywf6d",
    "outputId": "adc73c1c-f367-482c-db96-06580b792588"
   },
   "outputs": [
    {
     "data": {
      "text/plain": [
       "Text(0.5, 1.0, 'Count Plot for Show variable')"
      ]
     },
     "execution_count": 23,
     "metadata": {},
     "output_type": "execute_result"
    },
    {
     "data": {
      "image/png": "[encoded data removed]",
      "text/plain": [
       "<Figure size 864x432 with 1 Axes>"
      ]
     },
     "metadata": {
      "needs_background": "light"
     },
     "output_type": "display_data"
    }
   ],
   "source": [
    "# Count plot for Show\n",
    "plt.figure(figsize = (12,6))\n",
    "sns.countplot(x='Show', data=df)\n",
    "plt.title('Count Plot for Show variable')"
   ]
  },
  {
   "cell_type": "markdown",
   "metadata": {
    "id": "7I_lbVy2Cqia"
   },
   "source": [
    "From the count plot, we can observed that the Netflix shows which are watched most are Stranger Things, Orange Is The New Black and American Horror Story."
   ]
  },
  {
   "cell_type": "code",
   "execution_count": 24,
   "metadata": {
    "colab": {
     "base_uri": "https://localhost:8080/",
     "height": 422
    },
    "id": "eTOVanp5wvG0",
    "outputId": "633f3d27-09ac-4019-98fa-d1a493817571"
   },
   "outputs": [
    {
     "data": {
      "text/plain": [
       "Text(0.5, 1.0, 'Count Plot for Gender variable')"
      ]
     },
     "execution_count": 24,
     "metadata": {},
     "output_type": "execute_result"
    },
    {
     "data": {
      "image/png": "[encoded data removed]",
      "text/plain": [
       "<Figure size 864x432 with 1 Axes>"
      ]
     },
     "metadata": {
      "needs_background": "light"
     },
     "output_type": "display_data"
    }
   ],
   "source": [
    "# Count plot for Show\n",
    "plt.figure(figsize = (12,6))\n",
    "sns.countplot(x='Gender', data=df) ## Male:0, Female:1\n",
    "plt.title('Count Plot for Gender variable')"
   ]
  },
  {
   "cell_type": "markdown",
   "metadata": {
    "id": "Qhnh_hwfDc3-"
   },
   "source": [
    "From the count plot, we can observed that most female users watched Netflix shows than male users."
   ]
  },
  {
   "cell_type": "code",
   "execution_count": 25,
   "metadata": {
    "colab": {
     "base_uri": "https://localhost:8080/",
     "height": 422
    },
    "id": "g-oDSTCnxNEF",
    "outputId": "7714910a-4d84-42f7-d527-ebb47ddcd1fd"
   },
   "outputs": [
    {
     "data": {
      "text/plain": [
       "Text(0.5, 1.0, 'Count Plot for Completd variable')"
      ]
     },
     "execution_count": 25,
     "metadata": {},
     "output_type": "execute_result"
    },
    {
     "data": {
      "image/png": "[encoded data removed]",
      "text/plain": [
       "<Figure size 864x432 with 1 Axes>"
      ]
     },
     "metadata": {
      "needs_background": "light"
     },
     "output_type": "display_data"
    }
   ],
   "source": [
    "# Count plot for Completed\n",
    "plt.figure(figsize = (12,6))\n",
    "sns.countplot(x='Completed', data=df)\n",
    "plt.title('Count Plot for Completd variable')"
   ]
  },
  {
   "cell_type": "markdown",
   "metadata": {
    "id": "tR_035qoEDgK"
   },
   "source": [
    "From the count plot, we can observed that most users are not completed watching Netflix shows, followed by users who are completed watching Netflix shows and users who are watched 50% of Netflix shows. "
   ]
  },
  {
   "cell_type": "code",
   "execution_count": 26,
   "metadata": {
    "colab": {
     "base_uri": "https://localhost:8080/",
     "height": 422
    },
    "id": "3BdfMYxtxi-q",
    "outputId": "498a7ef8-3af3-4b03-bc8a-c88a8c08ee35"
   },
   "outputs": [
    {
     "data": {
      "text/plain": [
       "Text(0.5, 1.0, 'Count Plot for Time of Day variable')"
      ]
     },
     "execution_count": 26,
     "metadata": {},
     "output_type": "execute_result"
    },
    {
     "data": {
      "image/png": "[encoded data removed]",
      "text/plain": [
       "<Figure size 864x432 with 1 Axes>"
      ]
     },
     "metadata": {
      "needs_background": "light"
     },
     "output_type": "display_data"
    }
   ],
   "source": [
    "# Count plot for Time of Day\n",
    "plt.figure(figsize = (12,6))\n",
    "sns.countplot(x='Time of Day', data=df)\n",
    "plt.title('Count Plot for Time of Day variable')"
   ]
  },
  {
   "cell_type": "markdown",
   "metadata": {
    "id": "Xt_dsuf0E12U"
   },
   "source": [
    "From the count plot, we can observed that many users are watched Netflix shows in night than day time."
   ]
  },
  {
   "cell_type": "markdown",
   "metadata": {
    "id": "LmGS6CI2x-ud"
   },
   "source": [
    "### Bivariate Analysis ###"
   ]
  },
  {
   "cell_type": "code",
   "execution_count": 27,
   "metadata": {
    "colab": {
     "base_uri": "https://localhost:8080/",
     "height": 422
    },
    "id": "b4JdwzZayLyQ",
    "outputId": "994315f9-e3ee-4218-c3e6-d9d61d10a221"
   },
   "outputs": [
    {
     "data": {
      "text/plain": [
       "Text(0.5, 1.0, 'Stacked bar plot between Show and Time watched variable for given Gender')"
      ]
     },
     "execution_count": 27,
     "metadata": {},
     "output_type": "execute_result"
    },
    {
     "data": {
      "image/png": "[encoded data removed]",
      "text/plain": [
       "<Figure size 864x432 with 1 Axes>"
      ]
     },
     "metadata": {
      "needs_background": "light"
     },
     "output_type": "display_data"
    }
   ],
   "source": [
    "# Stacked Bar plot\n",
    "plt.figure(figsize = (12,6))\n",
    "sns.barplot(x='Show',y='Time Watched', data=df,hue='Gender')\n",
    "plt.title('Stacked bar plot between Show and Time watched variable for given Gender')"
   ]
  },
  {
   "cell_type": "markdown",
   "metadata": {
    "id": "lSfqly1FFXCp"
   },
   "source": [
    "From the stacked bar chart, we can observed that it tells about the length of the Netfliz shows episodes. The each episode length of Orange is The New Black is more than the other Netflix shows episodes."
   ]
  },
  {
   "cell_type": "code",
   "execution_count": 28,
   "metadata": {
    "colab": {
     "base_uri": "https://localhost:8080/",
     "height": 422
    },
    "id": "prkGeVugy0ps",
    "outputId": "a40b47e4-c11a-41bf-bf3f-5126a607307d"
   },
   "outputs": [
    {
     "data": {
      "text/plain": [
       "Text(0.5, 1.0, 'Stacked bar plot between Show and Time watched variable for given Time of Day')"
      ]
     },
     "execution_count": 28,
     "metadata": {},
     "output_type": "execute_result"
    },
    {
     "data": {
      "image/png": "[encoded data removed]",
      "text/plain": [
       "<Figure size 864x432 with 1 Axes>"
      ]
     },
     "metadata": {
      "needs_background": "light"
     },
     "output_type": "display_data"
    }
   ],
   "source": [
    "# Stacked Bar plot\n",
    "plt.figure(figsize = (12,6))\n",
    "sns.barplot(x='Show',y='Time Watched', data=df, hue='Time of Day')\n",
    "plt.title('Stacked bar plot between Show and Time watched variable for given Time of Day')"
   ]
  },
  {
   "cell_type": "markdown",
   "metadata": {
    "id": "NhB96SLBGgts"
   },
   "source": [
    "From the stacked bar chart, we can observed that it tells about the length of the Netfliz shows episodes and time of day it means that whether they watched shows in night or day time."
   ]
  },
  {
   "cell_type": "code",
   "execution_count": 29,
   "metadata": {
    "colab": {
     "base_uri": "https://localhost:8080/",
     "height": 422
    },
    "id": "FAfWmSNnzAZ5",
    "outputId": "9086a3f6-ca42-4874-d94e-e61e82e92189"
   },
   "outputs": [
    {
     "data": {
      "text/plain": [
       "Text(0.5, 1.0, 'Stacked bar plot between Show and Time watched variable for given Completed')"
      ]
     },
     "execution_count": 29,
     "metadata": {},
     "output_type": "execute_result"
    },
    {
     "data": {
      "image/png": "[encoded data removed]",
      "text/plain": [
       "<Figure size 864x432 with 1 Axes>"
      ]
     },
     "metadata": {
      "needs_background": "light"
     },
     "output_type": "display_data"
    }
   ],
   "source": [
    "# Stacked Bar plot\n",
    "plt.figure(figsize = (12,6))\n",
    "sns.barplot(x='Show',y='Time Watched', data=df,hue='Completed')\n",
    "plt.title('Stacked bar plot between Show and Time watched variable for given Completed')"
   ]
  },
  {
   "cell_type": "markdown",
   "metadata": {
    "id": "p0Ha5FNXHNhg"
   },
   "source": [
    "From the stacked bar chart, we can observed that it tells about the length of the Netfliz shows episodes and completed or not it means that users completed the watching shows or not or 50% completed."
   ]
  },
  {
   "cell_type": "code",
   "execution_count": 30,
   "metadata": {
    "colab": {
     "base_uri": "https://localhost:8080/",
     "height": 422
    },
    "id": "ye1b9x6W1LI5",
    "outputId": "86708706-b628-4869-c201-a81645b191da"
   },
   "outputs": [
    {
     "data": {
      "text/plain": [
       "Text(0.5, 1.0, 'Stacked bar plot between Day of Week and Time watched variable for given Time of Day')"
      ]
     },
     "execution_count": 30,
     "metadata": {},
     "output_type": "execute_result"
    },
    {
     "data": {
      "image/png": "[encoded data removed]",
      "text/plain": [
       "<Figure size 864x432 with 1 Axes>"
      ]
     },
     "metadata": {
      "needs_background": "light"
     },
     "output_type": "display_data"
    }
   ],
   "source": [
    "# Stacked Bar plot\n",
    "plt.figure(figsize = (12,6))\n",
    "sns.barplot(x='Day Of Week',y='Time Watched', data=df, hue='Time of Day')\n",
    "plt.title('Stacked bar plot between Day of Week and Time watched variable for given Time of Day')"
   ]
  },
  {
   "cell_type": "markdown",
   "metadata": {
    "id": "YFz_VfTKHy86"
   },
   "source": [
    "From the stacked bar chart, we can observed that it tells about the pattern of users watched Netflix shows in each day of week and time of day it means that whether user are watched shows in night or day time."
   ]
  },
  {
   "cell_type": "code",
   "execution_count": 31,
   "metadata": {
    "colab": {
     "base_uri": "https://localhost:8080/",
     "height": 422
    },
    "id": "0Qxh_6KF1zf5",
    "outputId": "38d3e081-3b0e-4fd6-de84-0f302b3cb950"
   },
   "outputs": [
    {
     "data": {
      "text/plain": [
       "Text(0.5, 1.0, 'Stacked bar plot between Day of Week and Time watched variable for given Gender')"
      ]
     },
     "execution_count": 31,
     "metadata": {},
     "output_type": "execute_result"
    },
    {
     "data": {
      "image/png": "[encoded data removed]",
      "text/plain": [
       "<Figure size 864x432 with 1 Axes>"
      ]
     },
     "metadata": {
      "needs_background": "light"
     },
     "output_type": "display_data"
    }
   ],
   "source": [
    "# Stacked Bar plot\n",
    "plt.figure(figsize = (12,6))\n",
    "sns.barplot(x='Day Of Week',y='Time Watched', data=df, hue='Gender')\n",
    "plt.title('Stacked bar plot between Day of Week and Time watched variable for given Gender')"
   ]
  },
  {
   "cell_type": "markdown",
   "metadata": {
    "id": "MSxAesCbJCRf"
   },
   "source": [
    "From the stacked bar chart, we can observed that it tells about the pattern of users watched Netflix shows in each day of week and Male and female users watched shows pattern in each day of week."
   ]
  },
  {
   "cell_type": "code",
   "execution_count": null,
   "metadata": {
    "id": "wHxi4dRM2Cj6"
   },
   "outputs": [],
   "source": []
  }
 ],
 "metadata": {
  "colab": {
   "name": "Netflix_StrangerThings",
   "provenance": []
  },
  "kernelspec": {
   "display_name": "Python 3",
   "language": "python",
   "name": "python3"
  },
  "language_info": {
   "codemirror_mode": {
    "name": "ipython",
    "version": 3
   },
   "file_extension": ".py",
   "mimetype": "text/x-python",
   "name": "python",
   "nbconvert_exporter": "python",
   "pygments_lexer": "ipython3",
   "version": "3.8.8"
  }
 },
 "nbformat": 4,
 "nbformat_minor": 1
}
